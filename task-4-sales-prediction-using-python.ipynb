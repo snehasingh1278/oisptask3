{
 "cells": [
  {
   "cell_type": "code",
   "execution_count": 1,
   "id": "a62cf931",
   "metadata": {
    "execution": {
     "iopub.execute_input": "2023-08-28T14:48:51.305724Z",
     "iopub.status.busy": "2023-08-28T14:48:51.305344Z",
     "iopub.status.idle": "2023-08-28T14:48:53.276951Z",
     "shell.execute_reply": "2023-08-28T14:48:53.276116Z"
    },
    "papermill": {
     "duration": 1.986704,
     "end_time": "2023-08-28T14:48:53.279187",
     "exception": false,
     "start_time": "2023-08-28T14:48:51.292483",
     "status": "completed"
    },
    "tags": []
   },
   "outputs": [
    {
     "name": "stderr",
     "output_type": "stream",
     "text": [
      "/opt/conda/lib/python3.10/site-packages/scipy/__init__.py:146: UserWarning: A NumPy version >=1.16.5 and <1.23.0 is required for this version of SciPy (detected version 1.23.5\n",
      "  warnings.warn(f\"A NumPy version >={np_minversion} and <{np_maxversion}\"\n"
     ]
    },
    {
     "data": {
      "text/plain": [
       "['advertising-dataset']"
      ]
     },
     "execution_count": 1,
     "metadata": {},
     "output_type": "execute_result"
    }
   ],
   "source": [
    "#Import library\n",
    "import numpy as np \n",
    "import pandas as pd \n",
    "from sklearn.cluster import KMeans\n",
    "import matplotlib.pyplot as plt\n",
    "import seaborn as sns\n",
    " \n",
    "\n",
    "from sklearn.model_selection import train_test_split\n",
    "from sklearn.preprocessing import StandardScaler\n",
    "from sklearn.neighbors import KNeighborsClassifier\n",
    "from sklearn.metrics import classification_report\n",
    "from sklearn.linear_model import LinearRegression\n",
    "from sklearn.metrics import mean_absolute_error\n",
    "\n",
    "\n",
    "\n",
    "import warnings\n",
    "warnings.filterwarnings('ignore')\n",
    "import os;\n",
    "os.listdir('/kaggle/input/')"
   ]
  },
  {
   "cell_type": "code",
   "execution_count": 2,
   "id": "cd405f9f",
   "metadata": {
    "execution": {
     "iopub.execute_input": "2023-08-28T14:48:53.304168Z",
     "iopub.status.busy": "2023-08-28T14:48:53.303260Z",
     "iopub.status.idle": "2023-08-28T14:48:53.309069Z",
     "shell.execute_reply": "2023-08-28T14:48:53.308088Z"
    },
    "papermill": {
     "duration": 0.021405,
     "end_time": "2023-08-28T14:48:53.311358",
     "exception": false,
     "start_time": "2023-08-28T14:48:53.289953",
     "status": "completed"
    },
    "tags": []
   },
   "outputs": [
    {
     "data": {
      "text/plain": [
       "'/kaggle/input/advertising-dataset/advertising.csv'"
      ]
     },
     "execution_count": 2,
     "metadata": {},
     "output_type": "execute_result"
    }
   ],
   "source": [
    "#download dataset\n",
    "\n",
    "sp = '/kaggle/input/advertising-dataset/advertising.csv'\n",
    "sp"
   ]
  },
  {
   "cell_type": "code",
   "execution_count": 3,
   "id": "edfb736e",
   "metadata": {
    "execution": {
     "iopub.execute_input": "2023-08-28T14:48:53.334674Z",
     "iopub.status.busy": "2023-08-28T14:48:53.333924Z",
     "iopub.status.idle": "2023-08-28T14:48:53.375142Z",
     "shell.execute_reply": "2023-08-28T14:48:53.374300Z"
    },
    "papermill": {
     "duration": 0.055292,
     "end_time": "2023-08-28T14:48:53.377232",
     "exception": false,
     "start_time": "2023-08-28T14:48:53.321940",
     "status": "completed"
    },
    "tags": []
   },
   "outputs": [
    {
     "data": {
      "text/html": [
       "<div>\n",
       "<style scoped>\n",
       "    .dataframe tbody tr th:only-of-type {\n",
       "        vertical-align: middle;\n",
       "    }\n",
       "\n",
       "    .dataframe tbody tr th {\n",
       "        vertical-align: top;\n",
       "    }\n",
       "\n",
       "    .dataframe thead th {\n",
       "        text-align: right;\n",
       "    }\n",
       "</style>\n",
       "<table border=\"1\" class=\"dataframe\">\n",
       "  <thead>\n",
       "    <tr style=\"text-align: right;\">\n",
       "      <th></th>\n",
       "      <th>TV</th>\n",
       "      <th>Radio</th>\n",
       "      <th>Newspaper</th>\n",
       "      <th>Sales</th>\n",
       "    </tr>\n",
       "  </thead>\n",
       "  <tbody>\n",
       "    <tr>\n",
       "      <th>0</th>\n",
       "      <td>230.1</td>\n",
       "      <td>37.8</td>\n",
       "      <td>69.2</td>\n",
       "      <td>22.1</td>\n",
       "    </tr>\n",
       "    <tr>\n",
       "      <th>1</th>\n",
       "      <td>44.5</td>\n",
       "      <td>39.3</td>\n",
       "      <td>45.1</td>\n",
       "      <td>10.4</td>\n",
       "    </tr>\n",
       "    <tr>\n",
       "      <th>2</th>\n",
       "      <td>17.2</td>\n",
       "      <td>45.9</td>\n",
       "      <td>69.3</td>\n",
       "      <td>12.0</td>\n",
       "    </tr>\n",
       "    <tr>\n",
       "      <th>3</th>\n",
       "      <td>151.5</td>\n",
       "      <td>41.3</td>\n",
       "      <td>58.5</td>\n",
       "      <td>16.5</td>\n",
       "    </tr>\n",
       "    <tr>\n",
       "      <th>4</th>\n",
       "      <td>180.8</td>\n",
       "      <td>10.8</td>\n",
       "      <td>58.4</td>\n",
       "      <td>17.9</td>\n",
       "    </tr>\n",
       "    <tr>\n",
       "      <th>...</th>\n",
       "      <td>...</td>\n",
       "      <td>...</td>\n",
       "      <td>...</td>\n",
       "      <td>...</td>\n",
       "    </tr>\n",
       "    <tr>\n",
       "      <th>195</th>\n",
       "      <td>38.2</td>\n",
       "      <td>3.7</td>\n",
       "      <td>13.8</td>\n",
       "      <td>7.6</td>\n",
       "    </tr>\n",
       "    <tr>\n",
       "      <th>196</th>\n",
       "      <td>94.2</td>\n",
       "      <td>4.9</td>\n",
       "      <td>8.1</td>\n",
       "      <td>14.0</td>\n",
       "    </tr>\n",
       "    <tr>\n",
       "      <th>197</th>\n",
       "      <td>177.0</td>\n",
       "      <td>9.3</td>\n",
       "      <td>6.4</td>\n",
       "      <td>14.8</td>\n",
       "    </tr>\n",
       "    <tr>\n",
       "      <th>198</th>\n",
       "      <td>283.6</td>\n",
       "      <td>42.0</td>\n",
       "      <td>66.2</td>\n",
       "      <td>25.5</td>\n",
       "    </tr>\n",
       "    <tr>\n",
       "      <th>199</th>\n",
       "      <td>232.1</td>\n",
       "      <td>8.6</td>\n",
       "      <td>8.7</td>\n",
       "      <td>18.4</td>\n",
       "    </tr>\n",
       "  </tbody>\n",
       "</table>\n",
       "<p>200 rows × 4 columns</p>\n",
       "</div>"
      ],
      "text/plain": [
       "        TV  Radio  Newspaper  Sales\n",
       "0    230.1   37.8       69.2   22.1\n",
       "1     44.5   39.3       45.1   10.4\n",
       "2     17.2   45.9       69.3   12.0\n",
       "3    151.5   41.3       58.5   16.5\n",
       "4    180.8   10.8       58.4   17.9\n",
       "..     ...    ...        ...    ...\n",
       "195   38.2    3.7       13.8    7.6\n",
       "196   94.2    4.9        8.1   14.0\n",
       "197  177.0    9.3        6.4   14.8\n",
       "198  283.6   42.0       66.2   25.5\n",
       "199  232.1    8.6        8.7   18.4\n",
       "\n",
       "[200 rows x 4 columns]"
      ]
     },
     "execution_count": 3,
     "metadata": {},
     "output_type": "execute_result"
    }
   ],
   "source": [
    "sp = pd.read_csv('/kaggle/input/advertising-dataset/advertising.csv')\n",
    "sp"
   ]
  },
  {
   "cell_type": "code",
   "execution_count": 4,
   "id": "7b81f9d5",
   "metadata": {
    "execution": {
     "iopub.execute_input": "2023-08-28T14:48:53.401535Z",
     "iopub.status.busy": "2023-08-28T14:48:53.400966Z",
     "iopub.status.idle": "2023-08-28T14:48:53.412656Z",
     "shell.execute_reply": "2023-08-28T14:48:53.411505Z"
    },
    "papermill": {
     "duration": 0.02654,
     "end_time": "2023-08-28T14:48:53.415077",
     "exception": false,
     "start_time": "2023-08-28T14:48:53.388537",
     "status": "completed"
    },
    "tags": []
   },
   "outputs": [
    {
     "data": {
      "text/html": [
       "<div>\n",
       "<style scoped>\n",
       "    .dataframe tbody tr th:only-of-type {\n",
       "        vertical-align: middle;\n",
       "    }\n",
       "\n",
       "    .dataframe tbody tr th {\n",
       "        vertical-align: top;\n",
       "    }\n",
       "\n",
       "    .dataframe thead th {\n",
       "        text-align: right;\n",
       "    }\n",
       "</style>\n",
       "<table border=\"1\" class=\"dataframe\">\n",
       "  <thead>\n",
       "    <tr style=\"text-align: right;\">\n",
       "      <th></th>\n",
       "      <th>TV</th>\n",
       "      <th>Radio</th>\n",
       "      <th>Newspaper</th>\n",
       "      <th>Sales</th>\n",
       "    </tr>\n",
       "  </thead>\n",
       "  <tbody>\n",
       "    <tr>\n",
       "      <th>0</th>\n",
       "      <td>230.1</td>\n",
       "      <td>37.8</td>\n",
       "      <td>69.2</td>\n",
       "      <td>22.1</td>\n",
       "    </tr>\n",
       "    <tr>\n",
       "      <th>1</th>\n",
       "      <td>44.5</td>\n",
       "      <td>39.3</td>\n",
       "      <td>45.1</td>\n",
       "      <td>10.4</td>\n",
       "    </tr>\n",
       "    <tr>\n",
       "      <th>2</th>\n",
       "      <td>17.2</td>\n",
       "      <td>45.9</td>\n",
       "      <td>69.3</td>\n",
       "      <td>12.0</td>\n",
       "    </tr>\n",
       "    <tr>\n",
       "      <th>3</th>\n",
       "      <td>151.5</td>\n",
       "      <td>41.3</td>\n",
       "      <td>58.5</td>\n",
       "      <td>16.5</td>\n",
       "    </tr>\n",
       "    <tr>\n",
       "      <th>4</th>\n",
       "      <td>180.8</td>\n",
       "      <td>10.8</td>\n",
       "      <td>58.4</td>\n",
       "      <td>17.9</td>\n",
       "    </tr>\n",
       "  </tbody>\n",
       "</table>\n",
       "</div>"
      ],
      "text/plain": [
       "      TV  Radio  Newspaper  Sales\n",
       "0  230.1   37.8       69.2   22.1\n",
       "1   44.5   39.3       45.1   10.4\n",
       "2   17.2   45.9       69.3   12.0\n",
       "3  151.5   41.3       58.5   16.5\n",
       "4  180.8   10.8       58.4   17.9"
      ]
     },
     "execution_count": 4,
     "metadata": {},
     "output_type": "execute_result"
    }
   ],
   "source": [
    "sp.head()"
   ]
  },
  {
   "cell_type": "code",
   "execution_count": 5,
   "id": "0ab9635e",
   "metadata": {
    "execution": {
     "iopub.execute_input": "2023-08-28T14:48:53.439140Z",
     "iopub.status.busy": "2023-08-28T14:48:53.438701Z",
     "iopub.status.idle": "2023-08-28T14:48:53.465010Z",
     "shell.execute_reply": "2023-08-28T14:48:53.463988Z"
    },
    "papermill": {
     "duration": 0.040946,
     "end_time": "2023-08-28T14:48:53.467183",
     "exception": false,
     "start_time": "2023-08-28T14:48:53.426237",
     "status": "completed"
    },
    "tags": []
   },
   "outputs": [
    {
     "data": {
      "text/html": [
       "<div>\n",
       "<style scoped>\n",
       "    .dataframe tbody tr th:only-of-type {\n",
       "        vertical-align: middle;\n",
       "    }\n",
       "\n",
       "    .dataframe tbody tr th {\n",
       "        vertical-align: top;\n",
       "    }\n",
       "\n",
       "    .dataframe thead th {\n",
       "        text-align: right;\n",
       "    }\n",
       "</style>\n",
       "<table border=\"1\" class=\"dataframe\">\n",
       "  <thead>\n",
       "    <tr style=\"text-align: right;\">\n",
       "      <th></th>\n",
       "      <th>TV</th>\n",
       "      <th>Radio</th>\n",
       "      <th>Newspaper</th>\n",
       "      <th>Sales</th>\n",
       "    </tr>\n",
       "  </thead>\n",
       "  <tbody>\n",
       "    <tr>\n",
       "      <th>count</th>\n",
       "      <td>200.000000</td>\n",
       "      <td>200.000000</td>\n",
       "      <td>200.000000</td>\n",
       "      <td>200.000000</td>\n",
       "    </tr>\n",
       "    <tr>\n",
       "      <th>mean</th>\n",
       "      <td>147.042500</td>\n",
       "      <td>23.264000</td>\n",
       "      <td>30.554000</td>\n",
       "      <td>15.130500</td>\n",
       "    </tr>\n",
       "    <tr>\n",
       "      <th>std</th>\n",
       "      <td>85.854236</td>\n",
       "      <td>14.846809</td>\n",
       "      <td>21.778621</td>\n",
       "      <td>5.283892</td>\n",
       "    </tr>\n",
       "    <tr>\n",
       "      <th>min</th>\n",
       "      <td>0.700000</td>\n",
       "      <td>0.000000</td>\n",
       "      <td>0.300000</td>\n",
       "      <td>1.600000</td>\n",
       "    </tr>\n",
       "    <tr>\n",
       "      <th>25%</th>\n",
       "      <td>74.375000</td>\n",
       "      <td>9.975000</td>\n",
       "      <td>12.750000</td>\n",
       "      <td>11.000000</td>\n",
       "    </tr>\n",
       "    <tr>\n",
       "      <th>50%</th>\n",
       "      <td>149.750000</td>\n",
       "      <td>22.900000</td>\n",
       "      <td>25.750000</td>\n",
       "      <td>16.000000</td>\n",
       "    </tr>\n",
       "    <tr>\n",
       "      <th>75%</th>\n",
       "      <td>218.825000</td>\n",
       "      <td>36.525000</td>\n",
       "      <td>45.100000</td>\n",
       "      <td>19.050000</td>\n",
       "    </tr>\n",
       "    <tr>\n",
       "      <th>max</th>\n",
       "      <td>296.400000</td>\n",
       "      <td>49.600000</td>\n",
       "      <td>114.000000</td>\n",
       "      <td>27.000000</td>\n",
       "    </tr>\n",
       "  </tbody>\n",
       "</table>\n",
       "</div>"
      ],
      "text/plain": [
       "               TV       Radio   Newspaper       Sales\n",
       "count  200.000000  200.000000  200.000000  200.000000\n",
       "mean   147.042500   23.264000   30.554000   15.130500\n",
       "std     85.854236   14.846809   21.778621    5.283892\n",
       "min      0.700000    0.000000    0.300000    1.600000\n",
       "25%     74.375000    9.975000   12.750000   11.000000\n",
       "50%    149.750000   22.900000   25.750000   16.000000\n",
       "75%    218.825000   36.525000   45.100000   19.050000\n",
       "max    296.400000   49.600000  114.000000   27.000000"
      ]
     },
     "execution_count": 5,
     "metadata": {},
     "output_type": "execute_result"
    }
   ],
   "source": [
    "sp.describe()"
   ]
  },
  {
   "cell_type": "code",
   "execution_count": 6,
   "id": "caa11a0a",
   "metadata": {
    "execution": {
     "iopub.execute_input": "2023-08-28T14:48:53.491516Z",
     "iopub.status.busy": "2023-08-28T14:48:53.491148Z",
     "iopub.status.idle": "2023-08-28T14:48:53.510966Z",
     "shell.execute_reply": "2023-08-28T14:48:53.509860Z"
    },
    "papermill": {
     "duration": 0.035288,
     "end_time": "2023-08-28T14:48:53.513785",
     "exception": false,
     "start_time": "2023-08-28T14:48:53.478497",
     "status": "completed"
    },
    "tags": []
   },
   "outputs": [
    {
     "name": "stdout",
     "output_type": "stream",
     "text": [
      "<class 'pandas.core.frame.DataFrame'>\n",
      "RangeIndex: 200 entries, 0 to 199\n",
      "Data columns (total 4 columns):\n",
      " #   Column     Non-Null Count  Dtype  \n",
      "---  ------     --------------  -----  \n",
      " 0   TV         200 non-null    float64\n",
      " 1   Radio      200 non-null    float64\n",
      " 2   Newspaper  200 non-null    float64\n",
      " 3   Sales      200 non-null    float64\n",
      "dtypes: float64(4)\n",
      "memory usage: 6.4 KB\n"
     ]
    }
   ],
   "source": [
    "sp.info()"
   ]
  },
  {
   "cell_type": "code",
   "execution_count": 7,
   "id": "6c95835d",
   "metadata": {
    "execution": {
     "iopub.execute_input": "2023-08-28T14:48:53.538229Z",
     "iopub.status.busy": "2023-08-28T14:48:53.537844Z",
     "iopub.status.idle": "2023-08-28T14:48:53.544412Z",
     "shell.execute_reply": "2023-08-28T14:48:53.543329Z"
    },
    "papermill": {
     "duration": 0.021361,
     "end_time": "2023-08-28T14:48:53.546503",
     "exception": false,
     "start_time": "2023-08-28T14:48:53.525142",
     "status": "completed"
    },
    "tags": []
   },
   "outputs": [
    {
     "data": {
      "text/plain": [
       "(200, 4)"
      ]
     },
     "execution_count": 7,
     "metadata": {},
     "output_type": "execute_result"
    }
   ],
   "source": [
    "sp.shape"
   ]
  },
  {
   "cell_type": "code",
   "execution_count": 8,
   "id": "8dfba0c5",
   "metadata": {
    "execution": {
     "iopub.execute_input": "2023-08-28T14:48:53.571939Z",
     "iopub.status.busy": "2023-08-28T14:48:53.570817Z",
     "iopub.status.idle": "2023-08-28T14:48:53.578267Z",
     "shell.execute_reply": "2023-08-28T14:48:53.577521Z"
    },
    "papermill": {
     "duration": 0.022057,
     "end_time": "2023-08-28T14:48:53.580148",
     "exception": false,
     "start_time": "2023-08-28T14:48:53.558091",
     "status": "completed"
    },
    "tags": []
   },
   "outputs": [
    {
     "data": {
      "text/plain": [
       "TV           0\n",
       "Radio        0\n",
       "Newspaper    0\n",
       "Sales        0\n",
       "dtype: int64"
      ]
     },
     "execution_count": 8,
     "metadata": {},
     "output_type": "execute_result"
    }
   ],
   "source": [
    "#check for Null values\n",
    "sp.isnull().sum()"
   ]
  },
  {
   "cell_type": "code",
   "execution_count": 9,
   "id": "2ad3a183",
   "metadata": {
    "execution": {
     "iopub.execute_input": "2023-08-28T14:48:53.605155Z",
     "iopub.status.busy": "2023-08-28T14:48:53.604211Z",
     "iopub.status.idle": "2023-08-28T14:48:53.609098Z",
     "shell.execute_reply": "2023-08-28T14:48:53.607984Z"
    },
    "papermill": {
     "duration": 0.019528,
     "end_time": "2023-08-28T14:48:53.611197",
     "exception": false,
     "start_time": "2023-08-28T14:48:53.591669",
     "status": "completed"
    },
    "tags": []
   },
   "outputs": [],
   "source": [
    "#Since there are no null values hence data is clean."
   ]
  },
  {
   "cell_type": "code",
   "execution_count": 10,
   "id": "5721c868",
   "metadata": {
    "execution": {
     "iopub.execute_input": "2023-08-28T14:48:53.636542Z",
     "iopub.status.busy": "2023-08-28T14:48:53.635929Z",
     "iopub.status.idle": "2023-08-28T14:48:54.050539Z",
     "shell.execute_reply": "2023-08-28T14:48:54.049278Z"
    },
    "papermill": {
     "duration": 0.430355,
     "end_time": "2023-08-28T14:48:54.053097",
     "exception": false,
     "start_time": "2023-08-28T14:48:53.622742",
     "status": "completed"
    },
    "tags": []
   },
   "outputs": [
    {
     "data": {
      "image/png": "[encoded data removed]",
      "text/plain": [
       "<Figure size 500x500 with 3 Axes>"
      ]
     },
     "metadata": {},
     "output_type": "display_data"
    }
   ],
   "source": [
    "# Create a box plot to findout the outliers\n",
    "\n",
    "#Method 1\n",
    "\n",
    "fig, axs = plt.subplots(3, figsize = (5,5))\n",
    "plt1 = sns.boxplot(sp['TV'], ax = axs[0])\n",
    "plt2 = sns.boxplot(sp['Newspaper'], ax = axs[1])\n",
    "plt3 = sns.boxplot(sp['Radio'], ax = axs[2])\n",
    "plt.tight_layout()\n",
    "plt1 = sns.boxplot(data = sp, x='TV')\n",
    "plt.title('Box Plot of TV')\n",
    "\n",
    "\n",
    "plt.tight_layout()\n",
    "plt.show()"
   ]
  },
  {
   "cell_type": "code",
   "execution_count": 11,
   "id": "2bf5a99d",
   "metadata": {
    "execution": {
     "iopub.execute_input": "2023-08-28T14:48:54.079130Z",
     "iopub.status.busy": "2023-08-28T14:48:54.078679Z",
     "iopub.status.idle": "2023-08-28T14:48:54.459109Z",
     "shell.execute_reply": "2023-08-28T14:48:54.457759Z"
    },
    "papermill": {
     "duration": 0.396413,
     "end_time": "2023-08-28T14:48:54.461485",
     "exception": false,
     "start_time": "2023-08-28T14:48:54.065072",
     "status": "completed"
    },
    "tags": []
   },
   "outputs": [
    {
     "data": {
      "image/png": "[encoded data removed]",
      "text/plain": [
       "<Figure size 600x300 with 3 Axes>"
      ]
     },
     "metadata": {},
     "output_type": "display_data"
    }
   ],
   "source": [
    "#Method 2\n",
    "plt.figure(figsize=(6, 3))\n",
    "\n",
    "plt.subplot(1, 3, 1)\n",
    "sns.boxplot(x='TV', data=sp)\n",
    "plt.title(\"Box Plot of TV\")\n",
    "\n",
    "plt.subplot(1, 3, 2)\n",
    "sns.boxplot(x='Radio', data=sp)\n",
    "plt.title(\"Box Plot of Radio\")\n",
    "\n",
    "plt.subplot(1, 3, 3)\n",
    "sns.boxplot(x='Newspaper', data=sp)\n",
    "plt.title(\"Box Plot of Newspaper\")\n",
    "\n",
    "plt.tight_layout()\n",
    "plt.show()"
   ]
  },
  {
   "cell_type": "markdown",
   "id": "a62159b2",
   "metadata": {
    "papermill": {
     "duration": 0.011776,
     "end_time": "2023-08-28T14:48:54.485327",
     "exception": false,
     "start_time": "2023-08-28T14:48:54.473551",
     "status": "completed"
    },
    "tags": []
   },
   "source": [
    "**There are almost no outliers**"
   ]
  },
  {
   "cell_type": "markdown",
   "id": "1f3ef9d0",
   "metadata": {
    "papermill": {
     "duration": 0.011516,
     "end_time": "2023-08-28T14:48:54.508714",
     "exception": false,
     "start_time": "2023-08-28T14:48:54.497198",
     "status": "completed"
    },
    "tags": []
   },
   "source": [
    "# Exploratory Data Analysis (EDA)"
   ]
  },
  {
   "cell_type": "code",
   "execution_count": 12,
   "id": "7bdc0dd9",
   "metadata": {
    "execution": {
     "iopub.execute_input": "2023-08-28T14:48:54.534174Z",
     "iopub.status.busy": "2023-08-28T14:48:54.533785Z",
     "iopub.status.idle": "2023-08-28T14:48:55.708058Z",
     "shell.execute_reply": "2023-08-28T14:48:55.707035Z"
    },
    "papermill": {
     "duration": 1.189747,
     "end_time": "2023-08-28T14:48:55.710326",
     "exception": false,
     "start_time": "2023-08-28T14:48:54.520579",
     "status": "completed"
    },
    "tags": []
   },
   "outputs": [
    {
     "data": {
      "image/png": "[encoded data removed]",
      "text/plain": [
       "<Figure size 600x300 with 4 Axes>"
      ]
     },
     "metadata": {},
     "output_type": "display_data"
    },
    {
     "data": {
      "image/png": "[encoded data removed]",
      "text/plain": [
       "<Figure size 600x300 with 1 Axes>"
      ]
     },
     "metadata": {},
     "output_type": "display_data"
    }
   ],
   "source": [
    "# Create histograms for numerical features\n",
    "num_features = ['TV', 'Radio', 'Newspaper', 'Sales']\n",
    "sp[num_features].hist(bins=20, figsize=(6, 3))\n",
    "plt.tight_layout()\n",
    "plt.show()\n",
    "\n",
    "# Create box plots for numerical features\n",
    "plt.figure(figsize=(6, 3))\n",
    "sns.boxplot(data=sp[num_features])\n",
    "plt.title('Box Plots of Numerical Features')\n",
    "plt.show()"
   ]
  },
  {
   "cell_type": "code",
   "execution_count": 13,
   "id": "c1de096e",
   "metadata": {
    "execution": {
     "iopub.execute_input": "2023-08-28T14:48:55.738196Z",
     "iopub.status.busy": "2023-08-28T14:48:55.737810Z",
     "iopub.status.idle": "2023-08-28T14:48:55.742917Z",
     "shell.execute_reply": "2023-08-28T14:48:55.741754Z"
    },
    "papermill": {
     "duration": 0.021482,
     "end_time": "2023-08-28T14:48:55.744958",
     "exception": false,
     "start_time": "2023-08-28T14:48:55.723476",
     "status": "completed"
    },
    "tags": []
   },
   "outputs": [
    {
     "name": "stdout",
     "output_type": "stream",
     "text": [
      "Index(['TV', 'Radio', 'Newspaper', 'Sales'], dtype='object')\n"
     ]
    }
   ],
   "source": [
    "# Display the column names of the dataset\n",
    "print(sp.columns)\n"
   ]
  },
  {
   "cell_type": "markdown",
   "id": "5ecd508c",
   "metadata": {
    "papermill": {
     "duration": 0.012222,
     "end_time": "2023-08-28T14:48:55.769876",
     "exception": false,
     "start_time": "2023-08-28T14:48:55.757654",
     "status": "completed"
    },
    "tags": []
   },
   "source": [
    "#  A heatmap can help in visualize the correlation between numerical features (TV, Radio, Newspaper & sales) in  dataset"
   ]
  },
  {
   "cell_type": "code",
   "execution_count": 14,
   "id": "397d72e9",
   "metadata": {
    "execution": {
     "iopub.execute_input": "2023-08-28T14:48:55.799251Z",
     "iopub.status.busy": "2023-08-28T14:48:55.798550Z",
     "iopub.status.idle": "2023-08-28T14:48:56.089303Z",
     "shell.execute_reply": "2023-08-28T14:48:56.088273Z"
    },
    "papermill": {
     "duration": 0.307432,
     "end_time": "2023-08-28T14:48:56.091513",
     "exception": false,
     "start_time": "2023-08-28T14:48:55.784081",
     "status": "completed"
    },
    "tags": []
   },
   "outputs": [
    {
     "data": {
      "image/png": "[encoded data removed]",
      "text/plain": [
       "<Figure size 600x300 with 2 Axes>"
      ]
     },
     "metadata": {},
     "output_type": "display_data"
    }
   ],
   "source": [
    "# Calculate the correlation matrix\n",
    "correlation_matrix = sp.corr()\n",
    "\n",
    "# Create a heatmap\n",
    "plt.figure(figsize=(6, 3))\n",
    "sns.heatmap(correlation_matrix, annot=True, cmap='coolwarm')\n",
    "plt.title('Correlation Heatmap')\n",
    "plt.show()"
   ]
  },
  {
   "cell_type": "markdown",
   "id": "ad3bff51",
   "metadata": {
    "papermill": {
     "duration": 0.012933,
     "end_time": "2023-08-28T14:48:56.117824",
     "exception": false,
     "start_time": "2023-08-28T14:48:56.104891",
     "status": "completed"
    },
    "tags": []
   },
   "source": [
    "# Data Model Building\n",
    "    "
   ]
  },
  {
   "cell_type": "code",
   "execution_count": 15,
   "id": "5a93cf5c",
   "metadata": {
    "execution": {
     "iopub.execute_input": "2023-08-28T14:48:56.145637Z",
     "iopub.status.busy": "2023-08-28T14:48:56.145260Z",
     "iopub.status.idle": "2023-08-28T14:48:56.152559Z",
     "shell.execute_reply": "2023-08-28T14:48:56.151317Z"
    },
    "papermill": {
     "duration": 0.023902,
     "end_time": "2023-08-28T14:48:56.154849",
     "exception": false,
     "start_time": "2023-08-28T14:48:56.130947",
     "status": "completed"
    },
    "tags": []
   },
   "outputs": [
    {
     "name": "stdout",
     "output_type": "stream",
     "text": [
      "Index(['TV', 'Radio', 'Newspaper', 'Sales'], dtype='object')\n"
     ]
    }
   ],
   "source": [
    "# Check column names\n",
    "print(sp.columns)\n",
    "\n",
    "# Extract features and target variable\n",
    "selected_features = ['TV', 'Radio', 'Newspaper']\n",
    "X = sp[selected_features]\n",
    "y = sp['Sales']"
   ]
  },
  {
   "cell_type": "code",
   "execution_count": 16,
   "id": "2314728b",
   "metadata": {
    "execution": {
     "iopub.execute_input": "2023-08-28T14:48:56.183695Z",
     "iopub.status.busy": "2023-08-28T14:48:56.183303Z",
     "iopub.status.idle": "2023-08-28T14:48:56.190627Z",
     "shell.execute_reply": "2023-08-28T14:48:56.189486Z"
    },
    "papermill": {
     "duration": 0.024205,
     "end_time": "2023-08-28T14:48:56.192825",
     "exception": false,
     "start_time": "2023-08-28T14:48:56.168620",
     "status": "completed"
    },
    "tags": []
   },
   "outputs": [],
   "source": [
    "\n",
    "# Split the data into training and testing sets\n",
    "X_train, X_test, y_train, y_test = train_test_split(X, y, test_size=0.2, random_state=42)\n",
    "\n"
   ]
  },
  {
   "cell_type": "code",
   "execution_count": 17,
   "id": "297b9587",
   "metadata": {
    "execution": {
     "iopub.execute_input": "2023-08-28T14:48:56.222999Z",
     "iopub.status.busy": "2023-08-28T14:48:56.222382Z",
     "iopub.status.idle": "2023-08-28T14:48:56.226768Z",
     "shell.execute_reply": "2023-08-28T14:48:56.226068Z"
    },
    "papermill": {
     "duration": 0.022489,
     "end_time": "2023-08-28T14:48:56.228713",
     "exception": false,
     "start_time": "2023-08-28T14:48:56.206224",
     "status": "completed"
    },
    "tags": []
   },
   "outputs": [],
   "source": [
    "# Create a linear regression model\n",
    "model = LinearRegression()"
   ]
  },
  {
   "cell_type": "code",
   "execution_count": 18,
   "id": "cba8ca3a",
   "metadata": {
    "execution": {
     "iopub.execute_input": "2023-08-28T14:48:56.257314Z",
     "iopub.status.busy": "2023-08-28T14:48:56.256710Z",
     "iopub.status.idle": "2023-08-28T14:48:56.285954Z",
     "shell.execute_reply": "2023-08-28T14:48:56.284955Z"
    },
    "papermill": {
     "duration": 0.046213,
     "end_time": "2023-08-28T14:48:56.288282",
     "exception": false,
     "start_time": "2023-08-28T14:48:56.242069",
     "status": "completed"
    },
    "tags": []
   },
   "outputs": [
    {
     "data": {
      "text/html": [
       "<style>#sk-container-id-1 {color: black;background-color: white;}#sk-container-id-1 pre{padding: 0;}#sk-container-id-1 div.sk-toggleable {background-color: white;}#sk-container-id-1 label.sk-toggleable__label {cursor: pointer;display: block;width: 100%;margin-bottom: 0;padding: 0.3em;box-sizing: border-box;text-align: center;}#sk-container-id-1 label.sk-toggleable__label-arrow:before {content: \"▸\";float: left;margin-right: 0.25em;color: #696969;}#sk-container-id-1 label.sk-toggleable__label-arrow:hover:before {color: black;}#sk-container-id-1 div.sk-estimator:hover label.sk-toggleable__label-arrow:before {color: black;}#sk-container-id-1 div.sk-toggleable__content {max-height: 0;max-width: 0;overflow: hidden;text-align: left;background-color: #f0f8ff;}#sk-container-id-1 div.sk-toggleable__content pre {margin: 0.2em;color: black;border-radius: 0.25em;background-color: #f0f8ff;}#sk-container-id-1 input.sk-toggleable__control:checked~div.sk-toggleable__content {max-height: 200px;max-width: 100%;overflow: auto;}#sk-container-id-1 input.sk-toggleable__control:checked~label.sk-toggleable__label-arrow:before {content: \"▾\";}#sk-container-id-1 div.sk-estimator input.sk-toggleable__control:checked~label.sk-toggleable__label {background-color: #d4ebff;}#sk-container-id-1 div.sk-label input.sk-toggleable__control:checked~label.sk-toggleable__label {background-color: #d4ebff;}#sk-container-id-1 input.sk-hidden--visually {border: 0;clip: rect(1px 1px 1px 1px);clip: rect(1px, 1px, 1px, 1px);height: 1px;margin: -1px;overflow: hidden;padding: 0;position: absolute;width: 1px;}#sk-container-id-1 div.sk-estimator {font-family: monospace;background-color: #f0f8ff;border: 1px dotted black;border-radius: 0.25em;box-sizing: border-box;margin-bottom: 0.5em;}#sk-container-id-1 div.sk-estimator:hover {background-color: #d4ebff;}#sk-container-id-1 div.sk-parallel-item::after {content: \"\";width: 100%;border-bottom: 1px solid gray;flex-grow: 1;}#sk-container-id-1 div.sk-label:hover label.sk-toggleable__label {background-color: #d4ebff;}#sk-container-id-1 div.sk-serial::before {content: \"\";position: absolute;border-left: 1px solid gray;box-sizing: border-box;top: 0;bottom: 0;left: 50%;z-index: 0;}#sk-container-id-1 div.sk-serial {display: flex;flex-direction: column;align-items: center;background-color: white;padding-right: 0.2em;padding-left: 0.2em;position: relative;}#sk-container-id-1 div.sk-item {position: relative;z-index: 1;}#sk-container-id-1 div.sk-parallel {display: flex;align-items: stretch;justify-content: center;background-color: white;position: relative;}#sk-container-id-1 div.sk-item::before, #sk-container-id-1 div.sk-parallel-item::before {content: \"\";position: absolute;border-left: 1px solid gray;box-sizing: border-box;top: 0;bottom: 0;left: 50%;z-index: -1;}#sk-container-id-1 div.sk-parallel-item {display: flex;flex-direction: column;z-index: 1;position: relative;background-color: white;}#sk-container-id-1 div.sk-parallel-item:first-child::after {align-self: flex-end;width: 50%;}#sk-container-id-1 div.sk-parallel-item:last-child::after {align-self: flex-start;width: 50%;}#sk-container-id-1 div.sk-parallel-item:only-child::after {width: 0;}#sk-container-id-1 div.sk-dashed-wrapped {border: 1px dashed gray;margin: 0 0.4em 0.5em 0.4em;box-sizing: border-box;padding-bottom: 0.4em;background-color: white;}#sk-container-id-1 div.sk-label label {font-family: monospace;font-weight: bold;display: inline-block;line-height: 1.2em;}#sk-container-id-1 div.sk-label-container {text-align: center;}#sk-container-id-1 div.sk-container {/* jupyter's `normalize.less` sets `[hidden] { display: none; }` but bootstrap.min.css set `[hidden] { display: none !important; }` so we also need the `!important` here to be able to override the default hidden behavior on the sphinx rendered scikit-learn.org. See: https://github.com/scikit-learn/scikit-learn/issues/21755 */display: inline-block !important;position: relative;}#sk-container-id-1 div.sk-text-repr-fallback {display: none;}</style><div id=\"sk-container-id-1\" class=\"sk-top-container\"><div class=\"sk-text-repr-fallback\"><pre>LinearRegression()</pre><b>In a Jupyter environment, please rerun this cell to show the HTML representation or trust the notebook. <br />On GitHub, the HTML representation is unable to render, please try loading this page with nbviewer.org.</b></div><div class=\"sk-container\" hidden><div class=\"sk-item\"><div class=\"sk-estimator sk-toggleable\"><input class=\"sk-toggleable__control sk-hidden--visually\" id=\"sk-estimator-id-1\" type=\"checkbox\" checked><label for=\"sk-estimator-id-1\" class=\"sk-toggleable__label sk-toggleable__label-arrow\">LinearRegression</label><div class=\"sk-toggleable__content\"><pre>LinearRegression()</pre></div></div></div></div></div>"
      ],
      "text/plain": [
       "LinearRegression()"
      ]
     },
     "execution_count": 18,
     "metadata": {},
     "output_type": "execute_result"
    }
   ],
   "source": [
    "# Train the model\n",
    "model.fit(X_train, y_train)"
   ]
  },
  {
   "cell_type": "code",
   "execution_count": 19,
   "id": "02902a9e",
   "metadata": {
    "execution": {
     "iopub.execute_input": "2023-08-28T14:48:56.317708Z",
     "iopub.status.busy": "2023-08-28T14:48:56.317300Z",
     "iopub.status.idle": "2023-08-28T14:48:56.324141Z",
     "shell.execute_reply": "2023-08-28T14:48:56.323091Z"
    },
    "papermill": {
     "duration": 0.024544,
     "end_time": "2023-08-28T14:48:56.326507",
     "exception": false,
     "start_time": "2023-08-28T14:48:56.301963",
     "status": "completed"
    },
    "tags": []
   },
   "outputs": [],
   "source": [
    "# Make predictions on the test set\n",
    "y_pred = model.predict(X_test)"
   ]
  },
  {
   "cell_type": "code",
   "execution_count": 20,
   "id": "f9c070c4",
   "metadata": {
    "execution": {
     "iopub.execute_input": "2023-08-28T14:48:56.355918Z",
     "iopub.status.busy": "2023-08-28T14:48:56.355566Z",
     "iopub.status.idle": "2023-08-28T14:48:56.362012Z",
     "shell.execute_reply": "2023-08-28T14:48:56.360618Z"
    },
    "papermill": {
     "duration": 0.02357,
     "end_time": "2023-08-28T14:48:56.363958",
     "exception": false,
     "start_time": "2023-08-28T14:48:56.340388",
     "status": "completed"
    },
    "tags": []
   },
   "outputs": [
    {
     "name": "stdout",
     "output_type": "stream",
     "text": [
      "Mean Absolute Error: 1.2748262109549338\n"
     ]
    }
   ],
   "source": [
    "# Evaluate the model's performance\n",
    "mae = mean_absolute_error(y_test, y_pred)\n",
    "print(\"Mean Absolute Error:\", mae)"
   ]
  },
  {
   "cell_type": "markdown",
   "id": "3d982ee8",
   "metadata": {
    "papermill": {
     "duration": 0.013437,
     "end_time": "2023-08-28T14:48:56.391230",
     "exception": false,
     "start_time": "2023-08-28T14:48:56.377793",
     "status": "completed"
    },
    "tags": []
   },
   "source": [
    "# Visualize Predictions vs. Actual Values"
   ]
  },
  {
   "cell_type": "code",
   "execution_count": 21,
   "id": "90f71d01",
   "metadata": {
    "execution": {
     "iopub.execute_input": "2023-08-28T14:48:56.420443Z",
     "iopub.status.busy": "2023-08-28T14:48:56.420011Z",
     "iopub.status.idle": "2023-08-28T14:48:56.701907Z",
     "shell.execute_reply": "2023-08-28T14:48:56.701088Z"
    },
    "papermill": {
     "duration": 0.29935,
     "end_time": "2023-08-28T14:48:56.704425",
     "exception": false,
     "start_time": "2023-08-28T14:48:56.405075",
     "status": "completed"
    },
    "tags": []
   },
   "outputs": [
    {
     "data": {
      "image/png": "[encoded data removed]",
      "text/plain": [
       "<Figure size 640x480 with 1 Axes>"
      ]
     },
     "metadata": {},
     "output_type": "display_data"
    }
   ],
   "source": [
    "plt.scatter(y_test, y_pred)\n",
    "plt.xlabel(\"Actual Sales\")\n",
    "plt.ylabel(\"Predicted Sales\")\n",
    "plt.title(\"Predictions vs. Actual Values\")\n",
    "plt.show()\n"
   ]
  },
  {
   "cell_type": "markdown",
   "id": "a2b81f94",
   "metadata": {
    "papermill": {
     "duration": 0.014016,
     "end_time": "2023-08-28T14:48:56.732960",
     "exception": false,
     "start_time": "2023-08-28T14:48:56.718944",
     "status": "completed"
    },
    "tags": []
   },
   "source": [
    "# Model Interpretation"
   ]
  },
  {
   "cell_type": "code",
   "execution_count": 22,
   "id": "9ff0e1a1",
   "metadata": {
    "execution": {
     "iopub.execute_input": "2023-08-28T14:48:56.763056Z",
     "iopub.status.busy": "2023-08-28T14:48:56.762673Z",
     "iopub.status.idle": "2023-08-28T14:48:56.768156Z",
     "shell.execute_reply": "2023-08-28T14:48:56.767333Z"
    },
    "papermill": {
     "duration": 0.022868,
     "end_time": "2023-08-28T14:48:56.770138",
     "exception": false,
     "start_time": "2023-08-28T14:48:56.747270",
     "status": "completed"
    },
    "tags": []
   },
   "outputs": [
    {
     "name": "stdout",
     "output_type": "stream",
     "text": [
      "TV: 0.05450927083721978\n",
      "Radio: 0.10094536239295579\n",
      "Newspaper: 0.0043366468220340446\n"
     ]
    }
   ],
   "source": [
    "coefficients = model.coef_\n",
    "feature_names = X.columns\n",
    "for feature, coef in zip(feature_names, coefficients):\n",
    "    print(f\"{feature}: {coef}\")\n"
   ]
  },
  {
   "cell_type": "code",
   "execution_count": 23,
   "id": "f7f3f738",
   "metadata": {
    "execution": {
     "iopub.execute_input": "2023-08-28T14:48:56.801056Z",
     "iopub.status.busy": "2023-08-28T14:48:56.799989Z",
     "iopub.status.idle": "2023-08-28T14:48:57.105629Z",
     "shell.execute_reply": "2023-08-28T14:48:57.104556Z"
    },
    "papermill": {
     "duration": 0.323368,
     "end_time": "2023-08-28T14:48:57.107894",
     "exception": false,
     "start_time": "2023-08-28T14:48:56.784526",
     "status": "completed"
    },
    "tags": []
   },
   "outputs": [
    {
     "name": "stdout",
     "output_type": "stream",
     "text": [
      "Linear Regression: Mean Absolute Error = 1.2748262109549338\n",
      "Decision Tree: Mean Absolute Error = 1.1725000000000003\n",
      "Random Forest: Mean Absolute Error = 0.8987500000000012\n"
     ]
    }
   ],
   "source": [
    "from sklearn.linear_model import LinearRegression\n",
    "from sklearn.tree import DecisionTreeRegressor\n",
    "from sklearn.ensemble import RandomForestRegressor\n",
    "from sklearn.metrics import mean_absolute_error\n",
    "\n",
    "# Load and preprocess your data (assuming 'X' is your feature matrix and 'y' is the target variable)\n",
    "\n",
    "# Split the data into training and testing sets\n",
    "X_train, X_test, y_train, y_test = train_test_split(X, y, test_size=0.2, random_state=42)\n",
    "\n",
    "# Create a list of models to compare\n",
    "models = [\n",
    "    (\"Linear Regression\", LinearRegression()),\n",
    "    (\"Decision Tree\", DecisionTreeRegressor()),\n",
    "    (\"Random Forest\", RandomForestRegressor())\n",
    "]\n",
    "\n",
    "# Loop through each model\n",
    "for model_name, model in models:\n",
    "    # Train the model\n",
    "    model.fit(X_train, y_train)\n",
    "    \n",
    "    # Make predictions\n",
    "    y_pred = model.predict(X_test)\n",
    "    \n",
    "    # Evaluate the model's performance\n",
    "    mae = mean_absolute_error(y_test, y_pred)\n",
    "    \n",
    "    # Print the results\n",
    "    print(f\"{model_name}: Mean Absolute Error = {mae}\")\n"
   ]
  },
  {
   "cell_type": "code",
   "execution_count": 24,
   "id": "d9ef02f3",
   "metadata": {
    "execution": {
     "iopub.execute_input": "2023-08-28T14:48:57.139001Z",
     "iopub.status.busy": "2023-08-28T14:48:57.138600Z",
     "iopub.status.idle": "2023-08-28T14:48:57.144016Z",
     "shell.execute_reply": "2023-08-28T14:48:57.142909Z"
    },
    "papermill": {
     "duration": 0.023785,
     "end_time": "2023-08-28T14:48:57.146233",
     "exception": false,
     "start_time": "2023-08-28T14:48:57.122448",
     "status": "completed"
    },
    "tags": []
   },
   "outputs": [],
   "source": [
    "from sklearn.model_selection import train_test_split, GridSearchCV\n",
    "from sklearn.linear_model import LinearRegression, Ridge, Lasso\n",
    "from sklearn.tree import DecisionTreeRegressor\n",
    "from sklearn.ensemble import RandomForestRegressor, GradientBoostingRegressor\n",
    "from sklearn.metrics import mean_absolute_error, mean_squared_error, r2_score"
   ]
  },
  {
   "cell_type": "code",
   "execution_count": 25,
   "id": "a933b150",
   "metadata": {
    "execution": {
     "iopub.execute_input": "2023-08-28T14:48:57.176720Z",
     "iopub.status.busy": "2023-08-28T14:48:57.176362Z",
     "iopub.status.idle": "2023-08-28T14:48:57.183229Z",
     "shell.execute_reply": "2023-08-28T14:48:57.182209Z"
    },
    "papermill": {
     "duration": 0.024676,
     "end_time": "2023-08-28T14:48:57.185393",
     "exception": false,
     "start_time": "2023-08-28T14:48:57.160717",
     "status": "completed"
    },
    "tags": []
   },
   "outputs": [],
   "source": [
    "# Load and preprocess your data (assuming 'X' is your feature matrix and 'y' is the target variable)\n",
    "\n",
    "# Split the data into training and testing sets\n",
    "X_train, X_test, y_train, y_test = train_test_split(X, y, test_size=0.2, random_state=42)"
   ]
  },
  {
   "cell_type": "code",
   "execution_count": 26,
   "id": "354e8f7e",
   "metadata": {
    "execution": {
     "iopub.execute_input": "2023-08-28T14:48:57.215816Z",
     "iopub.status.busy": "2023-08-28T14:48:57.215432Z",
     "iopub.status.idle": "2023-08-28T14:48:57.227295Z",
     "shell.execute_reply": "2023-08-28T14:48:57.226429Z"
    },
    "papermill": {
     "duration": 0.02996,
     "end_time": "2023-08-28T14:48:57.229905",
     "exception": false,
     "start_time": "2023-08-28T14:48:57.199945",
     "status": "completed"
    },
    "tags": []
   },
   "outputs": [
    {
     "name": "stdout",
     "output_type": "stream",
     "text": [
      "<class 'pandas.core.frame.DataFrame'>\n",
      "Int64Index: 160 entries, 79 to 102\n",
      "Data columns (total 3 columns):\n",
      " #   Column     Non-Null Count  Dtype  \n",
      "---  ------     --------------  -----  \n",
      " 0   TV         160 non-null    float64\n",
      " 1   Radio      160 non-null    float64\n",
      " 2   Newspaper  160 non-null    float64\n",
      "dtypes: float64(3)\n",
      "memory usage: 5.0 KB\n"
     ]
    }
   ],
   "source": [
    "X_train.info()"
   ]
  },
  {
   "cell_type": "code",
   "execution_count": 27,
   "id": "ac2dee5d",
   "metadata": {
    "execution": {
     "iopub.execute_input": "2023-08-28T14:48:57.261176Z",
     "iopub.status.busy": "2023-08-28T14:48:57.260767Z",
     "iopub.status.idle": "2023-08-28T14:48:57.271854Z",
     "shell.execute_reply": "2023-08-28T14:48:57.271111Z"
    },
    "papermill": {
     "duration": 0.029296,
     "end_time": "2023-08-28T14:48:57.273836",
     "exception": false,
     "start_time": "2023-08-28T14:48:57.244540",
     "status": "completed"
    },
    "tags": []
   },
   "outputs": [
    {
     "name": "stdout",
     "output_type": "stream",
     "text": [
      "<class 'pandas.core.frame.DataFrame'>\n",
      "Int64Index: 40 entries, 95 to 76\n",
      "Data columns (total 3 columns):\n",
      " #   Column     Non-Null Count  Dtype  \n",
      "---  ------     --------------  -----  \n",
      " 0   TV         40 non-null     float64\n",
      " 1   Radio      40 non-null     float64\n",
      " 2   Newspaper  40 non-null     float64\n",
      "dtypes: float64(3)\n",
      "memory usage: 1.2 KB\n"
     ]
    }
   ],
   "source": [
    "X_test.info()"
   ]
  },
  {
   "cell_type": "code",
   "execution_count": 28,
   "id": "d5b6a9cb",
   "metadata": {
    "execution": {
     "iopub.execute_input": "2023-08-28T14:48:57.304778Z",
     "iopub.status.busy": "2023-08-28T14:48:57.304433Z",
     "iopub.status.idle": "2023-08-28T14:48:57.312788Z",
     "shell.execute_reply": "2023-08-28T14:48:57.311889Z"
    },
    "papermill": {
     "duration": 0.02655,
     "end_time": "2023-08-28T14:48:57.315114",
     "exception": false,
     "start_time": "2023-08-28T14:48:57.288564",
     "status": "completed"
    },
    "tags": []
   },
   "outputs": [
    {
     "name": "stdout",
     "output_type": "stream",
     "text": [
      "<class 'pandas.core.series.Series'>\n",
      "Int64Index: 160 entries, 79 to 102\n",
      "Series name: Sales\n",
      "Non-Null Count  Dtype  \n",
      "--------------  -----  \n",
      "160 non-null    float64\n",
      "dtypes: float64(1)\n",
      "memory usage: 2.5 KB\n"
     ]
    }
   ],
   "source": [
    "y_train.info()"
   ]
  },
  {
   "cell_type": "code",
   "execution_count": 29,
   "id": "2ccb2952",
   "metadata": {
    "execution": {
     "iopub.execute_input": "2023-08-28T14:48:57.347639Z",
     "iopub.status.busy": "2023-08-28T14:48:57.346571Z",
     "iopub.status.idle": "2023-08-28T14:48:57.356954Z",
     "shell.execute_reply": "2023-08-28T14:48:57.355705Z"
    },
    "papermill": {
     "duration": 0.028692,
     "end_time": "2023-08-28T14:48:57.359157",
     "exception": false,
     "start_time": "2023-08-28T14:48:57.330465",
     "status": "completed"
    },
    "tags": []
   },
   "outputs": [
    {
     "name": "stdout",
     "output_type": "stream",
     "text": [
      "<class 'pandas.core.series.Series'>\n",
      "Int64Index: 40 entries, 95 to 76\n",
      "Series name: Sales\n",
      "Non-Null Count  Dtype  \n",
      "--------------  -----  \n",
      "40 non-null     float64\n",
      "dtypes: float64(1)\n",
      "memory usage: 640.0 bytes\n"
     ]
    }
   ],
   "source": [
    "y_test.info()"
   ]
  },
  {
   "cell_type": "code",
   "execution_count": 30,
   "id": "17e59a31",
   "metadata": {
    "execution": {
     "iopub.execute_input": "2023-08-28T14:48:57.391674Z",
     "iopub.status.busy": "2023-08-28T14:48:57.390515Z",
     "iopub.status.idle": "2023-08-28T14:48:57.395979Z",
     "shell.execute_reply": "2023-08-28T14:48:57.395140Z"
    },
    "papermill": {
     "duration": 0.023756,
     "end_time": "2023-08-28T14:48:57.398208",
     "exception": false,
     "start_time": "2023-08-28T14:48:57.374452",
     "status": "completed"
    },
    "tags": []
   },
   "outputs": [],
   "source": [
    "# Create a list of models to compare\n",
    "models = [\n",
    "    (\"Linear Regression\", LinearRegression()),\n",
    "    (\"Ridge Regression\", Ridge()),\n",
    "    (\"Lasso Regression\", Lasso()),\n",
    "    (\"Decision Tree\", DecisionTreeRegressor()),\n",
    "    (\"Random Forest\", RandomForestRegressor()),\n",
    "    (\"Gradient Boosting\", GradientBoostingRegressor())\n",
    "]"
   ]
  },
  {
   "cell_type": "code",
   "execution_count": 31,
   "id": "bfd6f24c",
   "metadata": {
    "execution": {
     "iopub.execute_input": "2023-08-28T14:48:57.430006Z",
     "iopub.status.busy": "2023-08-28T14:48:57.428940Z",
     "iopub.status.idle": "2023-08-28T14:48:57.674182Z",
     "shell.execute_reply": "2023-08-28T14:48:57.673168Z"
    },
    "papermill": {
     "duration": 0.263485,
     "end_time": "2023-08-28T14:48:57.676546",
     "exception": false,
     "start_time": "2023-08-28T14:48:57.413061",
     "status": "completed"
    },
    "tags": []
   },
   "outputs": [],
   "source": [
    "\n",
    "# Loop through each model\n",
    "for model_name, model in models:\n",
    "    # Train the model\n",
    "    model.fit(X_train, y_train)\n",
    "    \n"
   ]
  },
  {
   "cell_type": "code",
   "execution_count": 32,
   "id": "10d73059",
   "metadata": {
    "execution": {
     "iopub.execute_input": "2023-08-28T14:48:57.707888Z",
     "iopub.status.busy": "2023-08-28T14:48:57.707512Z",
     "iopub.status.idle": "2023-08-28T14:48:57.714790Z",
     "shell.execute_reply": "2023-08-28T14:48:57.713930Z"
    },
    "papermill": {
     "duration": 0.025374,
     "end_time": "2023-08-28T14:48:57.716627",
     "exception": false,
     "start_time": "2023-08-28T14:48:57.691253",
     "status": "completed"
    },
    "tags": []
   },
   "outputs": [
    {
     "data": {
      "text/plain": [
       "79     11.0\n",
       "197    14.8\n",
       "38     10.1\n",
       "24      9.7\n",
       "122    16.6\n",
       "       ... \n",
       "106     7.2\n",
       "14     19.0\n",
       "92     19.4\n",
       "179    17.6\n",
       "102    19.8\n",
       "Name: Sales, Length: 160, dtype: float64"
      ]
     },
     "execution_count": 32,
     "metadata": {},
     "output_type": "execute_result"
    }
   ],
   "source": [
    "y_train"
   ]
  },
  {
   "cell_type": "code",
   "execution_count": 33,
   "id": "624eea04",
   "metadata": {
    "execution": {
     "iopub.execute_input": "2023-08-28T14:48:57.748647Z",
     "iopub.status.busy": "2023-08-28T14:48:57.747990Z",
     "iopub.status.idle": "2023-08-28T14:48:57.761915Z",
     "shell.execute_reply": "2023-08-28T14:48:57.760834Z"
    },
    "papermill": {
     "duration": 0.032395,
     "end_time": "2023-08-28T14:48:57.764149",
     "exception": false,
     "start_time": "2023-08-28T14:48:57.731754",
     "status": "completed"
    },
    "tags": []
   },
   "outputs": [
    {
     "data": {
      "text/html": [
       "<div>\n",
       "<style scoped>\n",
       "    .dataframe tbody tr th:only-of-type {\n",
       "        vertical-align: middle;\n",
       "    }\n",
       "\n",
       "    .dataframe tbody tr th {\n",
       "        vertical-align: top;\n",
       "    }\n",
       "\n",
       "    .dataframe thead th {\n",
       "        text-align: right;\n",
       "    }\n",
       "</style>\n",
       "<table border=\"1\" class=\"dataframe\">\n",
       "  <thead>\n",
       "    <tr style=\"text-align: right;\">\n",
       "      <th></th>\n",
       "      <th>TV</th>\n",
       "      <th>Radio</th>\n",
       "      <th>Newspaper</th>\n",
       "    </tr>\n",
       "  </thead>\n",
       "  <tbody>\n",
       "    <tr>\n",
       "      <th>79</th>\n",
       "      <td>116.0</td>\n",
       "      <td>7.7</td>\n",
       "      <td>23.1</td>\n",
       "    </tr>\n",
       "    <tr>\n",
       "      <th>197</th>\n",
       "      <td>177.0</td>\n",
       "      <td>9.3</td>\n",
       "      <td>6.4</td>\n",
       "    </tr>\n",
       "    <tr>\n",
       "      <th>38</th>\n",
       "      <td>43.1</td>\n",
       "      <td>26.7</td>\n",
       "      <td>35.1</td>\n",
       "    </tr>\n",
       "    <tr>\n",
       "      <th>24</th>\n",
       "      <td>62.3</td>\n",
       "      <td>12.6</td>\n",
       "      <td>18.3</td>\n",
       "    </tr>\n",
       "    <tr>\n",
       "      <th>122</th>\n",
       "      <td>224.0</td>\n",
       "      <td>2.4</td>\n",
       "      <td>15.6</td>\n",
       "    </tr>\n",
       "    <tr>\n",
       "      <th>...</th>\n",
       "      <td>...</td>\n",
       "      <td>...</td>\n",
       "      <td>...</td>\n",
       "    </tr>\n",
       "    <tr>\n",
       "      <th>106</th>\n",
       "      <td>25.0</td>\n",
       "      <td>11.0</td>\n",
       "      <td>29.7</td>\n",
       "    </tr>\n",
       "    <tr>\n",
       "      <th>14</th>\n",
       "      <td>204.1</td>\n",
       "      <td>32.9</td>\n",
       "      <td>46.0</td>\n",
       "    </tr>\n",
       "    <tr>\n",
       "      <th>92</th>\n",
       "      <td>217.7</td>\n",
       "      <td>33.5</td>\n",
       "      <td>59.0</td>\n",
       "    </tr>\n",
       "    <tr>\n",
       "      <th>179</th>\n",
       "      <td>165.6</td>\n",
       "      <td>10.0</td>\n",
       "      <td>17.6</td>\n",
       "    </tr>\n",
       "    <tr>\n",
       "      <th>102</th>\n",
       "      <td>280.2</td>\n",
       "      <td>10.1</td>\n",
       "      <td>21.4</td>\n",
       "    </tr>\n",
       "  </tbody>\n",
       "</table>\n",
       "<p>160 rows × 3 columns</p>\n",
       "</div>"
      ],
      "text/plain": [
       "        TV  Radio  Newspaper\n",
       "79   116.0    7.7       23.1\n",
       "197  177.0    9.3        6.4\n",
       "38    43.1   26.7       35.1\n",
       "24    62.3   12.6       18.3\n",
       "122  224.0    2.4       15.6\n",
       "..     ...    ...        ...\n",
       "106   25.0   11.0       29.7\n",
       "14   204.1   32.9       46.0\n",
       "92   217.7   33.5       59.0\n",
       "179  165.6   10.0       17.6\n",
       "102  280.2   10.1       21.4\n",
       "\n",
       "[160 rows x 3 columns]"
      ]
     },
     "execution_count": 33,
     "metadata": {},
     "output_type": "execute_result"
    }
   ],
   "source": [
    "X_train"
   ]
  },
  {
   "cell_type": "code",
   "execution_count": 34,
   "id": "f9776c6e",
   "metadata": {
    "execution": {
     "iopub.execute_input": "2023-08-28T14:48:57.795807Z",
     "iopub.status.busy": "2023-08-28T14:48:57.795421Z",
     "iopub.status.idle": "2023-08-28T14:48:57.804820Z",
     "shell.execute_reply": "2023-08-28T14:48:57.803786Z"
    },
    "papermill": {
     "duration": 0.027885,
     "end_time": "2023-08-28T14:48:57.807193",
     "exception": false,
     "start_time": "2023-08-28T14:48:57.779308",
     "status": "completed"
    },
    "tags": []
   },
   "outputs": [],
   "source": [
    "    # Make predictions\n",
    "    y_pred = model.predict(X_test)\n",
    "    \n",
    "    # Evaluate the model's performance\n",
    "    mae = mean_absolute_error(y_test, y_pred)\n",
    "    mse = mean_squared_error(y_test, y_pred)\n",
    "    r2 = r2_score(y_test, y_pred)"
   ]
  },
  {
   "cell_type": "code",
   "execution_count": 35,
   "id": "0ef44157",
   "metadata": {
    "execution": {
     "iopub.execute_input": "2023-08-28T14:48:57.839545Z",
     "iopub.status.busy": "2023-08-28T14:48:57.838420Z",
     "iopub.status.idle": "2023-08-28T14:48:57.845178Z",
     "shell.execute_reply": "2023-08-28T14:48:57.844094Z"
    },
    "papermill": {
     "duration": 0.025015,
     "end_time": "2023-08-28T14:48:57.847274",
     "exception": false,
     "start_time": "2023-08-28T14:48:57.822259",
     "status": "completed"
    },
    "tags": []
   },
   "outputs": [
    {
     "name": "stdout",
     "output_type": "stream",
     "text": [
      "Gradient Boosting:\n",
      "Mean Absolute Error: 0.8307562530732664\n",
      "Mean Squared Error: 1.2675303912818172\n",
      "R-squared: 0.9589810592088367\n",
      "-------------------------\n"
     ]
    }
   ],
   "source": [
    "    # Print the results\n",
    "    print(f\"{model_name}:\")\n",
    "    print(f\"Mean Absolute Error: {mae}\")\n",
    "    print(f\"Mean Squared Error: {mse}\")\n",
    "    print(f\"R-squared: {r2}\")\n",
    "    print(\"-------------------------\")"
   ]
  },
  {
   "cell_type": "code",
   "execution_count": 36,
   "id": "2b069e62",
   "metadata": {
    "execution": {
     "iopub.execute_input": "2023-08-28T14:48:57.878850Z",
     "iopub.status.busy": "2023-08-28T14:48:57.878480Z",
     "iopub.status.idle": "2023-08-28T14:48:57.883358Z",
     "shell.execute_reply": "2023-08-28T14:48:57.882123Z"
    },
    "papermill": {
     "duration": 0.023115,
     "end_time": "2023-08-28T14:48:57.885472",
     "exception": false,
     "start_time": "2023-08-28T14:48:57.862357",
     "status": "completed"
    },
    "tags": []
   },
   "outputs": [],
   "source": [
    "# Hyperparameter tuning using GridSearchCV\n",
    "param_grid = {\n",
    "    \"n_estimators\": [50, 100, 200],\n",
    "    \"max_depth\": [None, 10, 20],\n",
    "    # Add more hyperparameters to tune\n",
    "}"
   ]
  },
  {
   "cell_type": "code",
   "execution_count": 37,
   "id": "b659a502",
   "metadata": {
    "execution": {
     "iopub.execute_input": "2023-08-28T14:48:57.918021Z",
     "iopub.status.busy": "2023-08-28T14:48:57.917649Z",
     "iopub.status.idle": "2023-08-28T14:49:06.819163Z",
     "shell.execute_reply": "2023-08-28T14:49:06.817949Z"
    },
    "papermill": {
     "duration": 8.920348,
     "end_time": "2023-08-28T14:49:06.821516",
     "exception": false,
     "start_time": "2023-08-28T14:48:57.901168",
     "status": "completed"
    },
    "tags": []
   },
   "outputs": [
    {
     "data": {
      "text/html": [
       "<style>#sk-container-id-2 {color: black;background-color: white;}#sk-container-id-2 pre{padding: 0;}#sk-container-id-2 div.sk-toggleable {background-color: white;}#sk-container-id-2 label.sk-toggleable__label {cursor: pointer;display: block;width: 100%;margin-bottom: 0;padding: 0.3em;box-sizing: border-box;text-align: center;}#sk-container-id-2 label.sk-toggleable__label-arrow:before {content: \"▸\";float: left;margin-right: 0.25em;color: #696969;}#sk-container-id-2 label.sk-toggleable__label-arrow:hover:before {color: black;}#sk-container-id-2 div.sk-estimator:hover label.sk-toggleable__label-arrow:before {color: black;}#sk-container-id-2 div.sk-toggleable__content {max-height: 0;max-width: 0;overflow: hidden;text-align: left;background-color: #f0f8ff;}#sk-container-id-2 div.sk-toggleable__content pre {margin: 0.2em;color: black;border-radius: 0.25em;background-color: #f0f8ff;}#sk-container-id-2 input.sk-toggleable__control:checked~div.sk-toggleable__content {max-height: 200px;max-width: 100%;overflow: auto;}#sk-container-id-2 input.sk-toggleable__control:checked~label.sk-toggleable__label-arrow:before {content: \"▾\";}#sk-container-id-2 div.sk-estimator input.sk-toggleable__control:checked~label.sk-toggleable__label {background-color: #d4ebff;}#sk-container-id-2 div.sk-label input.sk-toggleable__control:checked~label.sk-toggleable__label {background-color: #d4ebff;}#sk-container-id-2 input.sk-hidden--visually {border: 0;clip: rect(1px 1px 1px 1px);clip: rect(1px, 1px, 1px, 1px);height: 1px;margin: -1px;overflow: hidden;padding: 0;position: absolute;width: 1px;}#sk-container-id-2 div.sk-estimator {font-family: monospace;background-color: #f0f8ff;border: 1px dotted black;border-radius: 0.25em;box-sizing: border-box;margin-bottom: 0.5em;}#sk-container-id-2 div.sk-estimator:hover {background-color: #d4ebff;}#sk-container-id-2 div.sk-parallel-item::after {content: \"\";width: 100%;border-bottom: 1px solid gray;flex-grow: 1;}#sk-container-id-2 div.sk-label:hover label.sk-toggleable__label {background-color: #d4ebff;}#sk-container-id-2 div.sk-serial::before {content: \"\";position: absolute;border-left: 1px solid gray;box-sizing: border-box;top: 0;bottom: 0;left: 50%;z-index: 0;}#sk-container-id-2 div.sk-serial {display: flex;flex-direction: column;align-items: center;background-color: white;padding-right: 0.2em;padding-left: 0.2em;position: relative;}#sk-container-id-2 div.sk-item {position: relative;z-index: 1;}#sk-container-id-2 div.sk-parallel {display: flex;align-items: stretch;justify-content: center;background-color: white;position: relative;}#sk-container-id-2 div.sk-item::before, #sk-container-id-2 div.sk-parallel-item::before {content: \"\";position: absolute;border-left: 1px solid gray;box-sizing: border-box;top: 0;bottom: 0;left: 50%;z-index: -1;}#sk-container-id-2 div.sk-parallel-item {display: flex;flex-direction: column;z-index: 1;position: relative;background-color: white;}#sk-container-id-2 div.sk-parallel-item:first-child::after {align-self: flex-end;width: 50%;}#sk-container-id-2 div.sk-parallel-item:last-child::after {align-self: flex-start;width: 50%;}#sk-container-id-2 div.sk-parallel-item:only-child::after {width: 0;}#sk-container-id-2 div.sk-dashed-wrapped {border: 1px dashed gray;margin: 0 0.4em 0.5em 0.4em;box-sizing: border-box;padding-bottom: 0.4em;background-color: white;}#sk-container-id-2 div.sk-label label {font-family: monospace;font-weight: bold;display: inline-block;line-height: 1.2em;}#sk-container-id-2 div.sk-label-container {text-align: center;}#sk-container-id-2 div.sk-container {/* jupyter's `normalize.less` sets `[hidden] { display: none; }` but bootstrap.min.css set `[hidden] { display: none !important; }` so we also need the `!important` here to be able to override the default hidden behavior on the sphinx rendered scikit-learn.org. See: https://github.com/scikit-learn/scikit-learn/issues/21755 */display: inline-block !important;position: relative;}#sk-container-id-2 div.sk-text-repr-fallback {display: none;}</style><div id=\"sk-container-id-2\" class=\"sk-top-container\"><div class=\"sk-text-repr-fallback\"><pre>GridSearchCV(cv=5, estimator=RandomForestRegressor(),\n",
       "             param_grid={&#x27;max_depth&#x27;: [None, 10, 20],\n",
       "                         &#x27;n_estimators&#x27;: [50, 100, 200]})</pre><b>In a Jupyter environment, please rerun this cell to show the HTML representation or trust the notebook. <br />On GitHub, the HTML representation is unable to render, please try loading this page with nbviewer.org.</b></div><div class=\"sk-container\" hidden><div class=\"sk-item sk-dashed-wrapped\"><div class=\"sk-label-container\"><div class=\"sk-label sk-toggleable\"><input class=\"sk-toggleable__control sk-hidden--visually\" id=\"sk-estimator-id-2\" type=\"checkbox\" ><label for=\"sk-estimator-id-2\" class=\"sk-toggleable__label sk-toggleable__label-arrow\">GridSearchCV</label><div class=\"sk-toggleable__content\"><pre>GridSearchCV(cv=5, estimator=RandomForestRegressor(),\n",
       "             param_grid={&#x27;max_depth&#x27;: [None, 10, 20],\n",
       "                         &#x27;n_estimators&#x27;: [50, 100, 200]})</pre></div></div></div><div class=\"sk-parallel\"><div class=\"sk-parallel-item\"><div class=\"sk-item\"><div class=\"sk-label-container\"><div class=\"sk-label sk-toggleable\"><input class=\"sk-toggleable__control sk-hidden--visually\" id=\"sk-estimator-id-3\" type=\"checkbox\" ><label for=\"sk-estimator-id-3\" class=\"sk-toggleable__label sk-toggleable__label-arrow\">estimator: RandomForestRegressor</label><div class=\"sk-toggleable__content\"><pre>RandomForestRegressor()</pre></div></div></div><div class=\"sk-serial\"><div class=\"sk-item\"><div class=\"sk-estimator sk-toggleable\"><input class=\"sk-toggleable__control sk-hidden--visually\" id=\"sk-estimator-id-4\" type=\"checkbox\" ><label for=\"sk-estimator-id-4\" class=\"sk-toggleable__label sk-toggleable__label-arrow\">RandomForestRegressor</label><div class=\"sk-toggleable__content\"><pre>RandomForestRegressor()</pre></div></div></div></div></div></div></div></div></div></div>"
      ],
      "text/plain": [
       "GridSearchCV(cv=5, estimator=RandomForestRegressor(),\n",
       "             param_grid={'max_depth': [None, 10, 20],\n",
       "                         'n_estimators': [50, 100, 200]})"
      ]
     },
     "execution_count": 37,
     "metadata": {},
     "output_type": "execute_result"
    }
   ],
   "source": [
    "rf_model = RandomForestRegressor()\n",
    "grid_search = GridSearchCV(estimator=rf_model, param_grid=param_grid, cv=5)\n",
    "grid_search.fit(X_train, y_train)"
   ]
  },
  {
   "cell_type": "code",
   "execution_count": 38,
   "id": "e13f7eec",
   "metadata": {
    "execution": {
     "iopub.execute_input": "2023-08-28T14:49:06.855666Z",
     "iopub.status.busy": "2023-08-28T14:49:06.854960Z",
     "iopub.status.idle": "2023-08-28T14:49:06.880110Z",
     "shell.execute_reply": "2023-08-28T14:49:06.878934Z"
    },
    "papermill": {
     "duration": 0.044974,
     "end_time": "2023-08-28T14:49:06.882657",
     "exception": false,
     "start_time": "2023-08-28T14:49:06.837683",
     "status": "completed"
    },
    "tags": []
   },
   "outputs": [],
   "source": [
    "best_model = grid_search.best_estimator_\n",
    "best_pred = best_model.predict(X_test)"
   ]
  },
  {
   "cell_type": "code",
   "execution_count": 39,
   "id": "f7d741d2",
   "metadata": {
    "execution": {
     "iopub.execute_input": "2023-08-28T14:49:06.915986Z",
     "iopub.status.busy": "2023-08-28T14:49:06.915251Z",
     "iopub.status.idle": "2023-08-28T14:49:06.921635Z",
     "shell.execute_reply": "2023-08-28T14:49:06.920610Z"
    },
    "papermill": {
     "duration": 0.025214,
     "end_time": "2023-08-28T14:49:06.923620",
     "exception": false,
     "start_time": "2023-08-28T14:49:06.898406",
     "status": "completed"
    },
    "tags": []
   },
   "outputs": [],
   "source": [
    "# Evaluate the best model's performance\n",
    "best_mae = mean_absolute_error(y_test, best_pred)\n",
    "best_mse = mean_squared_error(y_test, best_pred)\n",
    "best_r2 = r2_score(y_test, best_pred)"
   ]
  },
  {
   "cell_type": "code",
   "execution_count": 40,
   "id": "35627c68",
   "metadata": {
    "execution": {
     "iopub.execute_input": "2023-08-28T14:49:06.956873Z",
     "iopub.status.busy": "2023-08-28T14:49:06.955951Z",
     "iopub.status.idle": "2023-08-28T14:49:06.961225Z",
     "shell.execute_reply": "2023-08-28T14:49:06.960456Z"
    },
    "papermill": {
     "duration": 0.023677,
     "end_time": "2023-08-28T14:49:06.963196",
     "exception": false,
     "start_time": "2023-08-28T14:49:06.939519",
     "status": "completed"
    },
    "tags": []
   },
   "outputs": [
    {
     "name": "stdout",
     "output_type": "stream",
     "text": [
      "Best Model (Random Forest) with Hyperparameter Tuning:\n",
      "Mean Absolute Error: 0.9229510123087687\n",
      "Mean Squared Error: 1.460817735432021\n",
      "R-squared: 0.9527260280238561\n"
     ]
    }
   ],
   "source": [
    "print(\"Best Model (Random Forest) with Hyperparameter Tuning:\")\n",
    "print(f\"Mean Absolute Error: {best_mae}\")\n",
    "print(f\"Mean Squared Error: {best_mse}\")\n",
    "print(f\"R-squared: {best_r2}\")\n"
   ]
  },
  {
   "cell_type": "code",
   "execution_count": 41,
   "id": "5ed406dc",
   "metadata": {
    "execution": {
     "iopub.execute_input": "2023-08-28T14:49:06.996352Z",
     "iopub.status.busy": "2023-08-28T14:49:06.995417Z",
     "iopub.status.idle": "2023-08-28T14:49:07.000999Z",
     "shell.execute_reply": "2023-08-28T14:49:06.999937Z"
    },
    "papermill": {
     "duration": 0.024682,
     "end_time": "2023-08-28T14:49:07.003315",
     "exception": false,
     "start_time": "2023-08-28T14:49:06.978633",
     "status": "completed"
    },
    "tags": []
   },
   "outputs": [],
   "source": [
    "# Calculate residuals for the best model\n",
    "best_residuals = y_test - best_pred"
   ]
  },
  {
   "cell_type": "code",
   "execution_count": 42,
   "id": "e5bec044",
   "metadata": {
    "execution": {
     "iopub.execute_input": "2023-08-28T14:49:07.035879Z",
     "iopub.status.busy": "2023-08-28T14:49:07.035493Z",
     "iopub.status.idle": "2023-08-28T14:49:07.349104Z",
     "shell.execute_reply": "2023-08-28T14:49:07.347973Z"
    },
    "papermill": {
     "duration": 0.332577,
     "end_time": "2023-08-28T14:49:07.351584",
     "exception": false,
     "start_time": "2023-08-28T14:49:07.019007",
     "status": "completed"
    },
    "tags": []
   },
   "outputs": [
    {
     "data": {
      "image/png": "[encoded data removed]",
      "text/plain": [
       "<Figure size 600x300 with 1 Axes>"
      ]
     },
     "metadata": {},
     "output_type": "display_data"
    }
   ],
   "source": [
    "# Create a histogram of residuals for the best model\n",
    "plt.figure(figsize=(6, 3))\n",
    "sns.histplot(best_residuals, kde=True)\n",
    "plt.title(\"Distribution of Residuals - Best Model (Random Forest)\")\n",
    "plt.xlabel(\"Residuals\")\n",
    "plt.ylabel(\"Frequency\")\n",
    "plt.show()"
   ]
  },
  {
   "cell_type": "markdown",
   "id": "e058edf2",
   "metadata": {
    "papermill": {
     "duration": 0.016413,
     "end_time": "2023-08-28T14:49:07.384370",
     "exception": false,
     "start_time": "2023-08-28T14:49:07.367957",
     "status": "completed"
    },
    "tags": []
   },
   "source": [
    "# conclusion"
   ]
  },
  {
   "cell_type": "markdown",
   "id": "8984ca14",
   "metadata": {
    "papermill": {
     "duration": 0.015998,
     "end_time": "2023-08-28T14:49:07.416604",
     "exception": false,
     "start_time": "2023-08-28T14:49:07.400606",
     "status": "completed"
    },
    "tags": []
   },
   "source": [
    "# **Task 4 on Sales Prediction using various machine learning models:**\n",
    "# 1. In conclusion, to predict sales using different machine learning models has provided valuable insights into the predictive capabilities of each algorithm. we have explored linear regression, decision trees, random forests, and gradient boosting. After careful evaluation, we found that the Random Forest model exhibited the best performance, offering the lowest Mean Absolute Error and Root Mean Squared Error. This model effectively captures complex relationships within the data and handles non-linearity well. Moreover, our feature engineering efforts improved the overall accuracy of the models, showcasing the significance of proper data preprocessing.\n",
    "# 2. However, it's important to note that even the best model may not be perfectly accurate, and there might be other unaccounted factors influencing sales. Hyperparameter tuning played a crucial role in optimizing the models, contributing to their enhanced performance. Going forward, we can explore more advanced techniques like neural networks or ensemble methods to further enhance predictive accuracy.\n",
    "# 3. This project underscores the potential of machine learning in predicting sales, aiding businesses in strategic decision-making. By leveraging accurate sales forecasts, businesses can optimize resource allocation, marketing strategies, and inventory management. Our journey through these models has deepened our understanding of machine learning techniques and their real-world applications, underscoring their role in shaping modern data-driven business strategies."
   ]
  },
  {
   "cell_type": "markdown",
   "id": "db9b3a49",
   "metadata": {
    "papermill": {
     "duration": 0.015763,
     "end_time": "2023-08-28T14:49:07.448563",
     "exception": false,
     "start_time": "2023-08-28T14:49:07.432800",
     "status": "completed"
    },
    "tags": []
   },
   "source": [
    "# Thank You!!!\n",
    "\n",
    "# The End!!!"
   ]
  }
 ],
 "metadata": {
  "kernelspec": {
   "display_name": "Python 3",
   "language": "python",
   "name": "python3"
  },
  "language_info": {
   "codemirror_mode": {
    "name": "ipython",
    "version": 3
   },
   "file_extension": ".py",
   "mimetype": "text/x-python",
   "name": "python",
   "nbconvert_exporter": "python",
   "pygments_lexer": "ipython3",
   "version": "3.10.12"
  },
  "papermill": {
   "default_parameters": {},
   "duration": 26.275987,
   "end_time": "2023-08-28T14:49:08.488692",
   "environment_variables": {},
   "exception": null,
   "input_path": "__notebook__.ipynb",
   "output_path": "__notebook__.ipynb",
   "parameters": {},
   "start_time": "2023-08-28T14:48:42.212705",
   "version": "2.4.0"
  }
 },
 "nbformat": 4,
 "nbformat_minor": 5
}
